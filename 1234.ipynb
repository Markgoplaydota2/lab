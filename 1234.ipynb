{
  "nbformat": 4,
  "nbformat_minor": 0,
  "metadata": {
    "colab": {
      "provenance": [],
      "authorship_tag": "ABX9TyMOnp+JkIAEoNzSHLQnK1Kv",
      "include_colab_link": true
    },
    "kernelspec": {
      "name": "python3",
      "display_name": "Python 3"
    },
    "language_info": {
      "name": "python"
    }
  },
  "cells": [
    {
      "cell_type": "markdown",
      "metadata": {
        "id": "view-in-github",
        "colab_type": "text"
      },
      "source": [
        "<a href=\"https://colab.research.google.com/github/Markgoplaydota2/lab/blob/main/1234.ipynb\" target=\"_parent\"><img src=\"https://colab.research.google.com/assets/colab-badge.svg\" alt=\"Open In Colab\"/></a>"
      ]
    },
    {
      "cell_type": "code",
      "execution_count": 23,
      "metadata": {
        "colab": {
          "base_uri": "https://localhost:8080/",
          "height": 435
        },
        "id": "00VUcYScqOJL",
        "outputId": "16d3f32e-47a3-4546-8292-973d502cfdcc"
      },
      "outputs": [
        {
          "output_type": "display_data",
          "data": {
            "text/plain": [
              "<Figure size 640x480 with 1 Axes>"
            ],
            "image/png": "[encoded data removed]"
          },
          "metadata": {}
        }
      ],
      "source": [
        "import math\n",
        "import numpy as np\n",
        "import matplotlib.pyplot as plt\n",
        "from matplotlib.animation import FuncAnimation\n",
        "\n",
        "\n",
        "z_speed = 5  \n",
        "d_speed = 5.35  \n",
        "radius = 5   \n",
        "\n",
        "\n",
        "z_start = (0, radius)\n",
        "d_start = (radius, 0)\n",
        "\n",
        "\n",
        "def distance(p1, p2):\n",
        "    return math.sqrt((p1[0]-p2[0])**2 + (p1[1]-p2[1])**2)\n",
        "\n",
        "\n",
        "def animate_func(i):\n",
        "    \n",
        "    z_angle = (i * z_speed) % 360\n",
        "    z_pos = (math.sin(math.radians(z_angle)) * radius, math.cos(math.radians(z_angle)) * radius)\n",
        "    d_pos = d_start\n",
        "    \n",
        "    \n",
        "    if distance(z_pos, d_pos) > d_speed:\n",
        "        \n",
        "        d_angle = math.degrees(math.atan2(z_pos[1]-d_pos[1], z_pos[0]-d_pos[0]))\n",
        "       \n",
        "        d_pos = (d_pos[0] + math.cos(math.radians(d_angle)) * d_speed,\n",
        "                 d_pos[1] + math.sin(math.radians(d_angle)) * d_speed)\n",
        "\n",
        "  \n",
        "    plt.cla()\n",
        "    plt.gca().set_aspect('equal', adjustable='box')\n",
        "    plt.xlim(-radius-1, radius+1)\n",
        "    plt.ylim(-radius-1, radius+1)\n",
        "    plt.plot([z_pos[0], d_pos[0]], [z_pos[1], d_pos[1]])\n",
        "    plt.plot(z_pos[0], z_pos[1], 'o', color='gray')\n",
        "    plt.plot(d_pos[0], d_pos[1], 'o', color='brown')\n",
        "\n",
        "fig = plt.figure()\n",
        "anim = FuncAnimation(fig, animate, frames=360//z_speed*10, interval=50)\n",
        "anim.save('погоня собаки за зайцем.mp4', fps=30, extra_args=['-vcodec', 'libx264'])\n",
        "plt.show()"
      ]
    }
  ]
}