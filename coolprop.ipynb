{
  "nbformat": 4,
  "nbformat_minor": 0,
  "metadata": {
    "colab": {
      "provenance": [],
      "authorship_tag": "ABX9TyOTnB8u3a6FIe47QEfmlqvE",
      "include_colab_link": true
    },
    "kernelspec": {
      "name": "python3",
      "display_name": "Python 3"
    },
    "language_info": {
      "name": "python"
    }
  },
  "cells": [
    {
      "cell_type": "markdown",
      "metadata": {
        "id": "view-in-github",
        "colab_type": "text"
      },
      "source": [
        "<a href=\"https://colab.research.google.com/github/Markgoplaydota2/lab/blob/main/coolprop.ipynb\" target=\"_parent\"><img src=\"https://colab.research.google.com/assets/colab-badge.svg\" alt=\"Open In Colab\"/></a>"
      ]
    },
    {
      "cell_type": "code",
      "execution_count": null,
      "metadata": {
        "id": "IoWLOxjXRvAG"
      },
      "outputs": [],
      "source": []
    },
    {
      "cell_type": "markdown",
      "source": [
        "Система уравнений"
      ],
      "metadata": {
        "id": "WAAiQwNBR6tn"
      }
    },
    {
      "cell_type": "code",
      "source": [
        "import numpy as np \n",
        "from scipy.optimize import fsolve\n",
        "def f(p):\n",
        "  x,y=p\n",
        "  return (x**2+y*x-10,x*y+y**2+np.sin(x)+7)\n",
        "x,y= fsolve(f,(1,3))\n",
        "print(x,y)"
      ],
      "metadata": {
        "colab": {
          "base_uri": "https://localhost:8080/"
        },
        "id": "CYnagMfASB12",
        "outputId": "1374f25d-39e2-4e05-9a67-efe3f622880e"
      },
      "execution_count": 2,
      "outputs": [
        {
          "output_type": "stream",
          "name": "stdout",
          "text": [
            "5.031943969582944 -3.04464044227471\n"
          ]
        }
      ]
    },
    {
      "cell_type": "markdown",
      "source": [
        "Функция coolprop"
      ],
      "metadata": {
        "id": "YYA_3zciX3Vt"
      }
    },
    {
      "cell_type": "code",
      "source": [
        "pip install CoolProp"
      ],
      "metadata": {
        "colab": {
          "base_uri": "https://localhost:8080/"
        },
        "id": "Rmi5_w9uX9g6",
        "outputId": "7defce0b-72e0-4825-b3bd-f7a26c9c4a3f"
      },
      "execution_count": 3,
      "outputs": [
        {
          "output_type": "stream",
          "name": "stdout",
          "text": [
            "Looking in indexes: https://pypi.org/simple, https://us-python.pkg.dev/colab-wheels/public/simple/\n",
            "Collecting CoolProp\n",
            "  Downloading CoolProp-6.4.3.post1-cp39-cp39-manylinux_2_17_x86_64.manylinux2014_x86_64.whl (6.2 MB)\n",
            "\u001b[2K     \u001b[90m━━━━━━━━━━━━━━━━━━━━━━━━━━━━━━━━━━━━━━━━\u001b[0m \u001b[32m6.2/6.2 MB\u001b[0m \u001b[31m47.1 MB/s\u001b[0m eta \u001b[36m0:00:00\u001b[0m\n",
            "\u001b[?25hInstalling collected packages: CoolProp\n",
            "Successfully installed CoolProp-6.4.3.post1\n"
          ]
        }
      ]
    },
    {
      "cell_type": "code",
      "source": [
        "import CoolProp.CoolProp as ct \n",
        "import matplotlib.pyplot as plt\n",
        "t=np.linspace(283.15,500.15,500)\n",
        "p=101325\n",
        "d=ct.PropsSI(\"D\",\"T\",t,\"P\",p,\"water\")\n",
        "plt.plot(t,d)\n",
        "plt.title(\"dota2\")\n",
        "plt.xlabel(\"tK\")\n",
        "plt.ylabel(\"d\")\n",
        "plt.scatter(373.15,957,color=\"black\")\n",
        "plt.grid()\n",
        "plt.show()"
      ],
      "metadata": {
        "colab": {
          "base_uri": "https://localhost:8080/",
          "height": 472
        },
        "id": "ciBCgp5UYXIU",
        "outputId": "c156a464-6955-4191-f2f6-3e58472fd9d4"
      },
      "execution_count": 12,
      "outputs": [
        {
          "output_type": "display_data",
          "data": {
            "text/plain": [
              "<Figure size 640x480 with 1 Axes>"
            ],
            "image/png": "[encoded data removed]"
          },
          "metadata": {}
        }
      ]
    }
  ]
}